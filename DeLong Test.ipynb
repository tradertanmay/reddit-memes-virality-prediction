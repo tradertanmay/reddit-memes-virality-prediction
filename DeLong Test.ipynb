{
 "cells":[
  {
   "cell_type":"code",
   "source":[
    "if (!requireNamespace(\"pROC\", quietly = TRUE)) {\n",
    "    install.packages(\"pROC\")\n",
    "}\n",
    "library(pROC)"
   ],
   "execution_count":1,
   "outputs":[
    {
     "name":"stderr",
     "text":[
      "also installing the dependency ‘plyr’\n",
      "\n",
      "\n",
      "Updating HTML index of packages in '.Library'\n",
      "\n",
      "Making 'packages.html' ...\n",
      " done\n",
      "\n",
      "Type 'citation(\"pROC\")' for a citation.\n",
      "\n",
      "\n",
      "Attaching package: ‘pROC’\n",
      "\n",
      "\n",
      "The following objects are masked from ‘package:stats’:\n",
      "\n",
      "    cov, smooth, var\n",
      "\n",
      "\n"
     ],
     "output_type":"stream"
    }
   ],
   "metadata":{
    "datalore":{
     "node_id":"cwU33O4nMFmQ2eNYz33lQC",
     "type":"CODE",
     "hide_input_from_viewers":true,
     "hide_output_from_viewers":true
    }
   }
  },
  {
   "cell_type":"code",
   "source":[
    "data_for_r <- read.csv('data_for_r.csv')\n",
    "\n",
    "library(pROC)\n",
    "\n",
    "roc_obj1 <- roc(data_for_r$y_test, data_for_r$y_pred1)\n",
    "roc_obj2 <- roc(data_for_r$y_test, data_for_r$y_pred2)\n",
    "\n",
    "delong_results <- roc.test(roc_obj1, roc_obj2, method=\"delong\")\n",
    "\n",
    "print(delong_results)"
   ],
   "execution_count":2,
   "outputs":[
    {
     "name":"stdout",
     "text":[
      "\n",
      "\tDeLong's test for two correlated ROC curves\n",
      "\n",
      "data:  roc_obj1 and roc_obj2\n",
      "Z = -0.48615, p-value = 0.6269\n",
      "alternative hypothesis: true difference in AUC is not equal to 0\n",
      "95 percent confidence interval:\n",
      " -0.09032282  0.05442059\n",
      "sample estimates:\n",
      "AUC of roc1 AUC of roc2 \n",
      "  0.7083853   0.7263364 \n",
      "\n"
     ],
     "output_type":"stream"
    },
    {
     "name":"stderr",
     "text":[
      "Setting levels: control = 0, case = 1\n",
      "\n",
      "Setting direction: controls < cases\n",
      "\n",
      "Setting levels: control = 0, case = 1\n",
      "\n",
      "Setting direction: controls < cases\n",
      "\n"
     ],
     "output_type":"stream"
    }
   ],
   "metadata":{
    "datalore":{
     "node_id":"bYKdySfJadvLpB0ix77BUy",
     "type":"CODE",
     "hide_input_from_viewers":true,
     "hide_output_from_viewers":true
    }
   }
  },
  {
   "cell_type":"code",
   "source":[
    "data_for_r <- read.csv('data_for_r2.csv')\n",
    "\n",
    "library(pROC)\n",
    "\n",
    "roc_obj1 <- roc(data_for_r$y_test, data_for_r$y_pred1)\n",
    "roc_obj2 <- roc(data_for_r$y_test, data_for_r$y_pred3)\n",
    "\n",
    "delong_results <- roc.test(roc_obj1, roc_obj2, method=\"delong\")\n",
    "\n",
    "print(delong_results)"
   ],
   "execution_count":3,
   "outputs":[
    {
     "name":"stdout",
     "text":[
      "\n",
      "\tDeLong's test for two correlated ROC curves\n",
      "\n",
      "data:  roc_obj1 and roc_obj2\n",
      "Z = -2.9136, p-value = 0.003573\n",
      "alternative hypothesis: true difference in AUC is not equal to 0\n",
      "95 percent confidence interval:\n",
      " -0.10945154 -0.02141676\n",
      "sample estimates:\n",
      "AUC of roc1 AUC of roc2 \n",
      "  0.7083853   0.7738194 \n",
      "\n"
     ],
     "output_type":"stream"
    },
    {
     "name":"stderr",
     "text":[
      "Setting levels: control = 0, case = 1\n",
      "\n",
      "Setting direction: controls < cases\n",
      "\n",
      "Setting levels: control = 0, case = 1\n",
      "\n",
      "Setting direction: controls < cases\n",
      "\n"
     ],
     "output_type":"stream"
    }
   ],
   "metadata":{
    "datalore":{
     "node_id":"w9ekKbxMgoPGE9ec8NmYtz",
     "type":"CODE",
     "hide_input_from_viewers":true,
     "hide_output_from_viewers":true
    }
   }
  },
  {
   "cell_type":"code",
   "source":[
    "data_for_r <- read.csv('data_for_r3.csv')\n",
    "\n",
    "library(pROC)\n",
    "\n",
    "roc_obj1 <- roc(data_for_r$y_test, data_for_r$y_pred2)\n",
    "roc_obj2 <- roc(data_for_r$y_test, data_for_r$y_pred3)\n",
    "\n",
    "delong_results <- roc.test(roc_obj1, roc_obj2, method=\"delong\")\n",
    "\n",
    "print(delong_results)"
   ],
   "execution_count":4,
   "outputs":[
    {
     "name":"stdout",
     "text":[
      "\n",
      "\tDeLong's test for two correlated ROC curves\n",
      "\n",
      "data:  roc_obj1 and roc_obj2\n",
      "Z = -2.2473, p-value = 0.02462\n",
      "alternative hypothesis: true difference in AUC is not equal to 0\n",
      "95 percent confidence interval:\n",
      " -0.08889407 -0.00607200\n",
      "sample estimates:\n",
      "AUC of roc1 AUC of roc2 \n",
      "  0.7263364   0.7738194 \n",
      "\n"
     ],
     "output_type":"stream"
    },
    {
     "name":"stderr",
     "text":[
      "Setting levels: control = 0, case = 1\n",
      "\n",
      "Setting direction: controls < cases\n",
      "\n",
      "Setting levels: control = 0, case = 1\n",
      "\n",
      "Setting direction: controls < cases\n",
      "\n"
     ],
     "output_type":"stream"
    }
   ],
   "metadata":{
    "datalore":{
     "node_id":"Wmt5GYPWAVJYmB4Js7sHdV",
     "type":"CODE",
     "hide_input_from_viewers":true,
     "hide_output_from_viewers":true
    }
   }
  },
  {
   "cell_type":"code",
   "source":[
    
   ],
   "execution_count":null,
   "outputs":[
    
   ],
   "metadata":{
    "datalore":{
     "node_id":"gW4Fd6FmUG8OijzXaRYnBb",
     "type":"CODE",
     "hide_input_from_viewers":true,
     "hide_output_from_viewers":true
    }
   }
  }
 ],
 "metadata":{
  "kernelspec":{
   "display_name":"R",
   "language":"r",
   "name":"ir"
  },
  "datalore":{
   "computation_mode":"JUPYTER",
   "package_manager":"conda",
   "base_environment":"minimal",
   "packages":[
    
   ],
   "report_row_ids":[
    
   ],
   "version":3
  }
 },
 "nbformat":4,
 "nbformat_minor":4
}